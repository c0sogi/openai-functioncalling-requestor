{
 "cells": [
  {
   "cell_type": "code",
   "execution_count": 2,
   "metadata": {},
   "outputs": [
    {
     "name": "stdout",
     "output_type": "stream",
     "text": [
      "- function name: web_search\n",
      "- function arguments: {'query_to_search': 'current stock price of AAPL'}\n"
     ]
    }
   ],
   "source": [
    "from os import environ\n",
    "from app.models.completion_models import FunctionCallParsed\n",
    "from app.models.function_calling.base import FunctionCall\n",
    "from app.models.function_calling.functions import FunctionCalls\n",
    "from app.utils.function_calling.request import request_function_call\n",
    "\n",
    "from dotenv import load_dotenv\n",
    "\n",
    "load_dotenv()\n",
    "OPENAI_API_KEY = environ[\"OPENAI_API_KEY\"]\n",
    "\n",
    "messages: list[dict[str, str]] = [\n",
    "    {\"role\": \"user\", \"content\": \"What is price of AAPL now?\"}\n",
    "]\n",
    "web_search_function: FunctionCall = FunctionCalls.get_function_call(\n",
    "    FunctionCalls.web_search\n",
    ")\n",
    "functions: list[FunctionCall] = [web_search_function]\n",
    "function_call: FunctionCall = web_search_function\n",
    "function_call_parsed: FunctionCallParsed = await request_function_call(\n",
    "    messages=messages,\n",
    "    functions=functions,\n",
    "    function_call=function_call,\n",
    "    model=\"gpt-3.5-turbo\",\n",
    "    api_key=OPENAI_API_KEY,\n",
    ")\n",
    "\n",
    "print(f\"- function name: {function_call_parsed['name']}\")\n",
    "print(f\"- function arguments: {function_call_parsed['arguments']}\")"
   ]
  }
 ],
 "metadata": {
  "kernelspec": {
   "display_name": ".venv",
   "language": "python",
   "name": "python3"
  },
  "language_info": {
   "codemirror_mode": {
    "name": "ipython",
    "version": 3
   },
   "file_extension": ".py",
   "mimetype": "text/x-python",
   "name": "python",
   "nbconvert_exporter": "python",
   "pygments_lexer": "ipython3",
   "version": "3.11.4"
  },
  "orig_nbformat": 4
 },
 "nbformat": 4,
 "nbformat_minor": 2
}
